{
 "cells": [
  {
   "cell_type": "code",
   "execution_count": 1,
   "metadata": {},
   "outputs": [
    {
     "name": "stdout",
     "output_type": "stream",
     "text": [
      "usage: evaluate.py [-h] [-t T] [--mode {Kevlar,GATK,TrioDenovo}] [--cov COV]\n",
      "                   [--correct CORRECT] [--missing MISSING] [--false FALSE]\n",
      "                   [--collisions COLLISIONS] [--vartype {SNV,INDEL}]\n",
      "                   [--minlength MINLENGTH] [--maxlength MAXLENGTH] [--do-all]\n",
      "                   simvar varcalls\n",
      "\n",
      "positional arguments:\n",
      "  simvar                simulated variants in .bed format\n",
      "  varcalls              VCF file of variant calls\n",
      "\n",
      "optional arguments:\n",
      "  -h, --help            show this help message and exit\n",
      "  -t T, --tolerance T   extend real variants by T nucleotides when querying\n",
      "                        for overlap with variant calls; default is 10\n",
      "  --mode {Kevlar,GATK,TrioDenovo}\n",
      "                        Kevlar|GATK|TrioDenovo\n",
      "  --cov COV             coverage\n",
      "  --correct CORRECT     print correct variants to file\n",
      "  --missing MISSING     print missing variants to file\n",
      "  --false FALSE         print false variants to file\n",
      "  --collisions COLLISIONS\n",
      "                        print calls that match the same variant\n",
      "  --vartype {SNV,INDEL}\n",
      "  --minlength MINLENGTH\n",
      "  --maxlength MAXLENGTH\n",
      "  --do-all              ignore all other arguments and analyze all data\n"
     ]
    }
   ],
   "source": [
    "./evaluate.py -h"
   ]
  },
  {
   "cell_type": "code",
   "execution_count": 2,
   "metadata": {},
   "outputs": [
    {
     "name": "stdout",
     "output_type": "stream",
     "text": [
      "Caller Coverage VarType Correct False Missing\n",
      "Kevlar       30     All     101   115      95\n"
     ]
    }
   ],
   "source": [
    "./evaluate.py --mode Kevlar --cov 30 \\\n",
    "    --correct calls.CORRECT \\\n",
    "    --missing calls.MISSING \\\n",
    "    --false calls.FALSE \\\n",
    "    14153-refr-calls-denovodb-dedup.bed calls.likescoremin50.varfilt.scored.vcf.gz"
   ]
  },
  {
   "cell_type": "code",
   "execution_count": 3,
   "metadata": {},
   "outputs": [
    {
     "name": "stdout",
     "output_type": "stream",
     "text": [
      "Caller Coverage VarType Correct False Missing\n",
      "Kevlar       30     SNV      96    51      84\n"
     ]
    }
   ],
   "source": [
    "./evaluate.py --mode Kevlar --cov 30 \\\n",
    "    --vartype SNV \\\n",
    "    --correct calls.snv.CORRECT \\\n",
    "    --missing calls.snv.MISSING \\\n",
    "    --false calls.snv.FALSE \\\n",
    "    14153-refr-calls-denovodb-dedup.bed calls.likescoremin50.varfilt.scored.vcf.gz"
   ]
  },
  {
   "cell_type": "code",
   "execution_count": 4,
   "metadata": {},
   "outputs": [
    {
     "name": "stdout",
     "output_type": "stream",
     "text": [
      "Caller Coverage            VarType Correct False Missing\n",
      "Kevlar       30  INDEL None-Nonebp       4    65      12\n"
     ]
    }
   ],
   "source": [
    "./evaluate.py --mode Kevlar --cov 30 \\\n",
    "    --vartype INDEL \\\n",
    "    --correct calls.indel.CORRECT \\\n",
    "    --missing calls.indel.MISSING \\\n",
    "    --false calls.indel.FALSE \\\n",
    "    14153-refr-calls-denovodb-dedup.bed calls.likescoremin50.varfilt.scored.vcf.gz"
   ]
  },
  {
   "cell_type": "code",
   "execution_count": 5,
   "metadata": {},
   "outputs": [
    {
     "name": "stdout",
     "output_type": "stream",
     "text": [
      "Repetitive: 75\n",
      "Non-repetitive: 20\n",
      "\n",
      "chrX\t18534420\t18534430\n",
      "chr2\t196738258\t196738268\n",
      "chr15\t67856022\t67856032\n",
      "chr11\t58534972\t58534982\n",
      "chr22\t37453533\t37453543\n",
      "chr5\t107337526\t107337536\n",
      "chr9\t140919033\t140919043\n",
      "chr1\t198243296\t198243306\n",
      "chr10\t56436845\t56436855\n",
      "chr11\t78722477\t78722487\n"
     ]
    }
   ],
   "source": [
    "cut -f 2 calls.MISSING | tr : '\\t' | tr - '\\t' | sed 's/^/chr/' > calls.MISSING.bed\n",
    "echo -n \"Repetitive: \"\n",
    "bedtools intersect -a calls.MISSING.bed -b REPEATS.bed.gz -wa -u | wc -l\n",
    "echo -n \"Non-repetitive: \"\n",
    "bedtools intersect -a calls.MISSING.bed -b REPEATS.bed.gz -wa -v > calls.MISSING.nonrep.bed\n",
    "wc -l < calls.MISSING.nonrep.bed\n",
    "echo\n",
    "head calls.MISSING.nonrep.bed"
   ]
  }
 ],
 "metadata": {
  "kernelspec": {
   "display_name": "Bash",
   "language": "bash",
   "name": "bash"
  },
  "language_info": {
   "codemirror_mode": "shell",
   "file_extension": ".sh",
   "mimetype": "text/x-sh",
   "name": "bash"
  }
 },
 "nbformat": 4,
 "nbformat_minor": 2
}
