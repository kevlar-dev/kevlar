{
 "cells": [
  {
   "cell_type": "code",
   "execution_count": 6,
   "metadata": {},
   "outputs": [],
   "source": [
    "from collections import defaultdict\n",
    "import kevlar"
   ]
  },
  {
   "cell_type": "code",
   "execution_count": 11,
   "metadata": {},
   "outputs": [],
   "source": [
    "def apply_ambig_thresh_post_hoc(filename, thresh=10):\n",
    "    part_counts = defaultdict(int)\n",
    "    with kevlar.open(filename, 'r') as fh:\n",
    "        reader = kevlar.vcf.VCFReader(fh)\n",
    "        for call in reader:\n",
    "            if call.filterstr != 'PASS':\n",
    "                continue\n",
    "            partid = call.attribute('PART')\n",
    "            part_counts[partid] += 1\n",
    "    with kevlar.open(filename, 'r') as fh:\n",
    "        for line in fh:\n",
    "            if 'PASS' in line:\n",
    "                partid = line.split(';PART=')[1].split(';')[0]\n",
    "                if part_counts[partid] > thresh:\n",
    "                    line = line.replace('\\tPASS\\t', '\\tAmbiguousCall\\t')\n",
    "            yield line"
   ]
  },
  {
   "cell_type": "code",
   "execution_count": 12,
   "metadata": {},
   "outputs": [
    {
     "name": "stdout",
     "output_type": "stream",
     "text": [
      "DEBUG: cov 10\n",
      "DEBUG: cov 20\n",
      "DEBUG: cov 30\n",
      "DEBUG: cov 50\n"
     ]
    }
   ],
   "source": [
    "for cov in ('10', '20', '30', '50'):\n",
    "    print('DEBUG: cov', cov)\n",
    "    infilename = 'kevlar-calls-{:s}x-nohomopoly.vcf.gz'.format(cov)\n",
    "    outfilename = 'kevlar-calls-{:s}x-nohomopoly-ambig-thresh.vcf.gz'.format(cov)\n",
    "    with kevlar.open(outfilename, 'w') as fh:\n",
    "        for line in apply_ambig_thresh_post_hoc(infilename, thresh=10):\n",
    "            print(line, end='', file=fh)"
   ]
  },
  {
   "cell_type": "code",
   "execution_count": null,
   "metadata": {},
   "outputs": [],
   "source": []
  }
 ],
 "metadata": {
  "kernelspec": {
   "display_name": "Python 3",
   "language": "python",
   "name": "python3"
  },
  "language_info": {
   "codemirror_mode": {
    "name": "ipython",
    "version": 3
   },
   "file_extension": ".py",
   "mimetype": "text/x-python",
   "name": "python",
   "nbconvert_exporter": "python",
   "pygments_lexer": "ipython3",
   "version": "3.6.7"
  }
 },
 "nbformat": 4,
 "nbformat_minor": 2
}
